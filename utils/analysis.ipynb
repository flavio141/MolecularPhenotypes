{
 "cells": [
  {
   "cell_type": "markdown",
   "metadata": {},
   "source": [
    "# Dataset Analysis"
   ]
  },
  {
   "cell_type": "code",
   "execution_count": null,
   "metadata": {},
   "outputs": [],
   "source": [
    "import pickle\n",
    "import numpy as np\n",
    "import pandas as pd\n",
    "from Bio.PDB import PDBParser\n",
    "import matplotlib.pyplot as plt"
   ]
  },
  {
   "cell_type": "code",
   "execution_count": null,
   "metadata": {},
   "outputs": [],
   "source": [
    "dataProtein = pd.read_csv('../dataset/database.tsv', sep='\\t')\n",
    "dataProtein.head()"
   ]
  },
  {
   "cell_type": "code",
   "execution_count": null,
   "metadata": {},
   "outputs": [],
   "source": [
    "print(f'Protein Identified with UniProt ID: {len(set(dataProtein[\"uniprot_id\"]))}')\n",
    "print(f'Protein Identified with PDB ID: {len(set(dataProtein[\"pdb_id\"]))}')"
   ]
  },
  {
   "cell_type": "code",
   "execution_count": null,
   "metadata": {},
   "outputs": [],
   "source": [
    "multipleProtein = dataProtein.groupby('uniprot_id').filter(lambda x: len(x) >= 2)\n",
    "multipleID = multipleProtein['uniprot_id'].unique()\n",
    "\n",
    "print(f'MultipleID: {len(multipleID)}')\n",
    "for id in multipleID:\n",
    "    valori = multipleProtein[multipleProtein['uniprot_id'] == id]['pdb_id'].unique()\n",
    "    print(f\"UniProt ID: {id}, PDB ID: {', '.join(valori)}\")"
   ]
  },
  {
   "cell_type": "markdown",
   "metadata": {},
   "source": [
    "## Dimensionality Analysis"
   ]
  },
  {
   "cell_type": "code",
   "execution_count": null,
   "metadata": {},
   "outputs": [],
   "source": [
    "data = pd.read_pickle('../embedding/fastaEmb_wt/1a9n_C.embeddings.pkl')\n",
    "data['P09661'].shape"
   ]
  },
  {
   "cell_type": "code",
   "execution_count": null,
   "metadata": {},
   "outputs": [],
   "source": [
    "dist = np.load('../embedding/distmap_wt/1a9n_C.distmap.npy')\n",
    "dist.shape"
   ]
  },
  {
   "cell_type": "code",
   "execution_count": null,
   "metadata": {},
   "outputs": [],
   "source": [
    "with open('../dataset/fasta/1a9n_C.fasta', 'r') as fasta:\n",
    "    fasta_wt = fasta.read()\n",
    "\n",
    "sequence = fasta_wt.split('\\n')[1]"
   ]
  },
  {
   "cell_type": "code",
   "execution_count": null,
   "metadata": {},
   "outputs": [],
   "source": [
    "len(sequence)"
   ]
  },
  {
   "cell_type": "code",
   "execution_count": null,
   "metadata": {},
   "outputs": [],
   "source": [
    "p = PDBParser(PERMISSIVE=1)\n",
    "structure = p.get_structure('', '../dataset/pdb/1a9n_C.pdb')\n",
    "model = structure[0]\n",
    "residues = []\n",
    "count = 0\n",
    "\n",
    "for chain in model:\n",
    "    for residue in chain:\n",
    "        residues.append(residue)\n",
    "        count += 1\n",
    "\n",
    "count"
   ]
  },
  {
   "cell_type": "markdown",
   "metadata": {},
   "source": [
    "## Similarity Analysis - UniRep"
   ]
  },
  {
   "cell_type": "code",
   "execution_count": null,
   "metadata": {},
   "outputs": [],
   "source": [
    "with open('../embedding/additional_features/unirep.pkl', 'rb') as file:\n",
    "    unirep = pickle.load(file)"
   ]
  },
  {
   "cell_type": "code",
   "execution_count": null,
   "metadata": {},
   "outputs": [],
   "source": [
    "x = range(unirep['1unp_A'][0].shape[1])\n",
    "\n",
    "plt.figure(figsize=(10,10))\n",
    "plt.plot(x, unirep['1unp_A'][0].T)\n",
    "plt.xlabel('Index')\n",
    "plt.ylabel('Embedding')\n",
    "plt.title('UniRep Embedding - 1UNP:A')\n",
    "plt.grid(True)\n",
    "plt.show()"
   ]
  },
  {
   "cell_type": "markdown",
   "metadata": {},
   "source": [
    "## Similarity Analysis - Part 2"
   ]
  },
  {
   "cell_type": "code",
   "execution_count": null,
   "metadata": {},
   "outputs": [],
   "source": [
    "similarity = np.load('../embedding/additional_features/similarity.npy', allow_pickle=True)"
   ]
  },
  {
   "cell_type": "code",
   "execution_count": null,
   "metadata": {},
   "outputs": [],
   "source": [
    "similarity.item()['1unp_A'].keys()"
   ]
  },
  {
   "cell_type": "code",
   "execution_count": null,
   "metadata": {},
   "outputs": [],
   "source": [
    "\n",
    "for key in similarity.item()['1unp_A'].keys():\n",
    "    x = range(similarity.item()['1unp_A'][key][1].mean(0).shape[0])\n",
    "\n",
    "    plt.figure(figsize=(30,10))\n",
    "    plt.plot(x, np.abs(similarity.item()['1unp_A'][key][1]).mean(0))\n",
    "    plt.xlabel('Index')\n",
    "    plt.ylabel('Embedding')\n",
    "    plt.title(f'Embedding ELMo - {key}')\n",
    "    plt.xticks(np.arange(0,1024, 14))\n",
    "    plt.grid(True)\n",
    "    plt.show()"
   ]
  },
  {
   "cell_type": "code",
   "execution_count": null,
   "metadata": {},
   "outputs": [],
   "source": [
    "matrix_similarity = similarity.item()['1unp_A']['1unp_A_A'][0]\n",
    "\n",
    "plt.figure(figsize=(10,10))\n",
    "plt.imshow(matrix_similarity, cmap='hot', interpolation='nearest')\n",
    "plt.colorbar()\n",
    "plt.title('Cosine Similarity Matrix - 1UNP:A')\n",
    "plt.xlabel('Index')\n",
    "plt.ylabel('Index')\n",
    "plt.show()"
   ]
  },
  {
   "cell_type": "code",
   "execution_count": null,
   "metadata": {},
   "outputs": [],
   "source": []
  }
 ],
 "metadata": {
  "kernelspec": {
   "display_name": "venv",
   "language": "python",
   "name": "python3"
  },
  "language_info": {
   "codemirror_mode": {
    "name": "ipython",
    "version": 3
   },
   "file_extension": ".py",
   "mimetype": "text/x-python",
   "name": "python",
   "nbconvert_exporter": "python",
   "pygments_lexer": "ipython3",
   "version": "3.8.10"
  },
  "orig_nbformat": 4
 },
 "nbformat": 4,
 "nbformat_minor": 2
}
