{
 "cells": [
  {
   "cell_type": "code",
   "execution_count": 11,
   "metadata": {},
   "outputs": [],
   "source": [
    "import pandas as pd\n",
    "import seaborn as sns\n",
    "import matplotlib.pyplot as plt"
   ]
  },
  {
   "cell_type": "code",
   "execution_count": 2,
   "metadata": {},
   "outputs": [],
   "source": [
    "try:\n",
    "    dataProtein = pd.read_csv('../alphamissense/human/AlphaMissense_aa_substitutions.tsv', sep='\\t', header=3)\n",
    "except pd.errors.ParserError as e:\n",
    "    print(f\"Errore durante il parsing del file: {e}\")"
   ]
  },
  {
   "cell_type": "code",
   "execution_count": 3,
   "metadata": {},
   "outputs": [],
   "source": [
    "regex = r'([A-Za-z]+)(\\d+)([A-Za-z]+)'\n",
    "dataProtein[['wildtype', 'position', 'mutation']] = dataProtein['protein_variant'].str.extract(regex)\n",
    "dataProtein.drop(columns=['protein_variant'], inplace=True)"
   ]
  },
  {
   "cell_type": "code",
   "execution_count": 4,
   "metadata": {},
   "outputs": [],
   "source": [
    "dataHPMdb = pd.read_csv('../dataset/database.tsv', sep='\\t')"
   ]
  },
  {
   "cell_type": "code",
   "execution_count": 5,
   "metadata": {},
   "outputs": [
    {
     "data": {
      "text/html": [
       "<div>\n",
       "<style scoped>\n",
       "    .dataframe tbody tr th:only-of-type {\n",
       "        vertical-align: middle;\n",
       "    }\n",
       "\n",
       "    .dataframe tbody tr th {\n",
       "        vertical-align: top;\n",
       "    }\n",
       "\n",
       "    .dataframe thead th {\n",
       "        text-align: right;\n",
       "    }\n",
       "</style>\n",
       "<table border=\"1\" class=\"dataframe\">\n",
       "  <thead>\n",
       "    <tr style=\"text-align: right;\">\n",
       "      <th></th>\n",
       "      <th>uniprot_id</th>\n",
       "      <th>wildtype</th>\n",
       "      <th>position</th>\n",
       "      <th>mutation</th>\n",
       "      <th>pdb_id</th>\n",
       "      <th>pdb_pos</th>\n",
       "      <th>phenotypic_annotation</th>\n",
       "      <th>interaction</th>\n",
       "      <th>binding</th>\n",
       "      <th>function</th>\n",
       "      <th>...</th>\n",
       "      <th>acetylation</th>\n",
       "      <th>other_ptm</th>\n",
       "      <th>methylation</th>\n",
       "      <th>ribosylation</th>\n",
       "      <th>subcell_localization_change</th>\n",
       "      <th>mimetic_ptm</th>\n",
       "      <th>folding</th>\n",
       "      <th>expression</th>\n",
       "      <th>am_pathogenicity</th>\n",
       "      <th>am_class</th>\n",
       "    </tr>\n",
       "  </thead>\n",
       "  <tbody>\n",
       "    <tr>\n",
       "      <th>0</th>\n",
       "      <td>P31749</td>\n",
       "      <td>K</td>\n",
       "      <td>8</td>\n",
       "      <td>R</td>\n",
       "      <td>1unp:A</td>\n",
       "      <td>8</td>\n",
       "      <td>Substantial reduction of ubiquitination, phosp...</td>\n",
       "      <td>NaN</td>\n",
       "      <td>NaN</td>\n",
       "      <td>-1.0</td>\n",
       "      <td>...</td>\n",
       "      <td>NaN</td>\n",
       "      <td>NaN</td>\n",
       "      <td>NaN</td>\n",
       "      <td>NaN</td>\n",
       "      <td>1.0</td>\n",
       "      <td>NaN</td>\n",
       "      <td>NaN</td>\n",
       "      <td>NaN</td>\n",
       "      <td>0.1127</td>\n",
       "      <td>benign</td>\n",
       "    </tr>\n",
       "    <tr>\n",
       "      <th>1</th>\n",
       "      <td>P31749</td>\n",
       "      <td>K</td>\n",
       "      <td>14</td>\n",
       "      <td>A</td>\n",
       "      <td>1unp:A</td>\n",
       "      <td>14</td>\n",
       "      <td>Impairs interaction with PtdIns(3,4,5)P3 and P...</td>\n",
       "      <td>NaN</td>\n",
       "      <td>-1.0</td>\n",
       "      <td>NaN</td>\n",
       "      <td>...</td>\n",
       "      <td>NaN</td>\n",
       "      <td>NaN</td>\n",
       "      <td>NaN</td>\n",
       "      <td>NaN</td>\n",
       "      <td>NaN</td>\n",
       "      <td>NaN</td>\n",
       "      <td>NaN</td>\n",
       "      <td>NaN</td>\n",
       "      <td>0.9986</td>\n",
       "      <td>pathogenic</td>\n",
       "    </tr>\n",
       "    <tr>\n",
       "      <th>2</th>\n",
       "      <td>P31749</td>\n",
       "      <td>K</td>\n",
       "      <td>14</td>\n",
       "      <td>Q</td>\n",
       "      <td>1unp:A</td>\n",
       "      <td>14</td>\n",
       "      <td>Substantial reduction of phosphorylation at T-...</td>\n",
       "      <td>NaN</td>\n",
       "      <td>-1.0</td>\n",
       "      <td>-1.0</td>\n",
       "      <td>...</td>\n",
       "      <td>NaN</td>\n",
       "      <td>NaN</td>\n",
       "      <td>NaN</td>\n",
       "      <td>NaN</td>\n",
       "      <td>1.0</td>\n",
       "      <td>NaN</td>\n",
       "      <td>NaN</td>\n",
       "      <td>NaN</td>\n",
       "      <td>0.9977</td>\n",
       "      <td>pathogenic</td>\n",
       "    </tr>\n",
       "    <tr>\n",
       "      <th>3</th>\n",
       "      <td>P31749</td>\n",
       "      <td>K</td>\n",
       "      <td>14</td>\n",
       "      <td>R</td>\n",
       "      <td>1unp:A</td>\n",
       "      <td>14</td>\n",
       "      <td>Substantial reduction of ubiquitination, phosp...</td>\n",
       "      <td>NaN</td>\n",
       "      <td>-1.0</td>\n",
       "      <td>-1.0</td>\n",
       "      <td>...</td>\n",
       "      <td>NaN</td>\n",
       "      <td>NaN</td>\n",
       "      <td>NaN</td>\n",
       "      <td>NaN</td>\n",
       "      <td>1.0</td>\n",
       "      <td>NaN</td>\n",
       "      <td>NaN</td>\n",
       "      <td>NaN</td>\n",
       "      <td>0.8666</td>\n",
       "      <td>pathogenic</td>\n",
       "    </tr>\n",
       "    <tr>\n",
       "      <th>4</th>\n",
       "      <td>P31749</td>\n",
       "      <td>E</td>\n",
       "      <td>17</td>\n",
       "      <td>K</td>\n",
       "      <td>1unp:A</td>\n",
       "      <td>17</td>\n",
       "      <td>No effect on membrane localization. Loss of me...</td>\n",
       "      <td>NaN</td>\n",
       "      <td>NaN</td>\n",
       "      <td>NaN</td>\n",
       "      <td>...</td>\n",
       "      <td>NaN</td>\n",
       "      <td>NaN</td>\n",
       "      <td>NaN</td>\n",
       "      <td>NaN</td>\n",
       "      <td>NaN</td>\n",
       "      <td>NaN</td>\n",
       "      <td>NaN</td>\n",
       "      <td>NaN</td>\n",
       "      <td>0.9977</td>\n",
       "      <td>pathogenic</td>\n",
       "    </tr>\n",
       "  </tbody>\n",
       "</table>\n",
       "<p>5 rows × 24 columns</p>\n",
       "</div>"
      ],
      "text/plain": [
       "  uniprot_id wildtype  position mutation  pdb_id  pdb_pos  \\\n",
       "0     P31749        K         8        R  1unp:A        8   \n",
       "1     P31749        K        14        A  1unp:A       14   \n",
       "2     P31749        K        14        Q  1unp:A       14   \n",
       "3     P31749        K        14        R  1unp:A       14   \n",
       "4     P31749        E        17        K  1unp:A       17   \n",
       "\n",
       "                               phenotypic_annotation  interaction  binding  \\\n",
       "0  Substantial reduction of ubiquitination, phosp...          NaN      NaN   \n",
       "1  Impairs interaction with PtdIns(3,4,5)P3 and P...          NaN     -1.0   \n",
       "2  Substantial reduction of phosphorylation at T-...          NaN     -1.0   \n",
       "3  Substantial reduction of ubiquitination, phosp...          NaN     -1.0   \n",
       "4  No effect on membrane localization. Loss of me...          NaN      NaN   \n",
       "\n",
       "   function  ...  acetylation  other_ptm  methylation  ribosylation  \\\n",
       "0      -1.0  ...          NaN        NaN          NaN           NaN   \n",
       "1       NaN  ...          NaN        NaN          NaN           NaN   \n",
       "2      -1.0  ...          NaN        NaN          NaN           NaN   \n",
       "3      -1.0  ...          NaN        NaN          NaN           NaN   \n",
       "4       NaN  ...          NaN        NaN          NaN           NaN   \n",
       "\n",
       "   subcell_localization_change  mimetic_ptm  folding  expression  \\\n",
       "0                          1.0          NaN      NaN         NaN   \n",
       "1                          NaN          NaN      NaN         NaN   \n",
       "2                          1.0          NaN      NaN         NaN   \n",
       "3                          1.0          NaN      NaN         NaN   \n",
       "4                          NaN          NaN      NaN         NaN   \n",
       "\n",
       "   am_pathogenicity    am_class  \n",
       "0            0.1127      benign  \n",
       "1            0.9986  pathogenic  \n",
       "2            0.9977  pathogenic  \n",
       "3            0.8666  pathogenic  \n",
       "4            0.9977  pathogenic  \n",
       "\n",
       "[5 rows x 24 columns]"
      ]
     },
     "execution_count": 5,
     "metadata": {},
     "output_type": "execute_result"
    }
   ],
   "source": [
    "dataProtein['position'] = dataProtein['position'].astype(int)\n",
    "\n",
    "data = pd.merge(dataHPMdb, dataProtein, on=['uniprot_id', 'wildtype', 'position', 'mutation'], how='inner')\n",
    "data.head()"
   ]
  },
  {
   "cell_type": "code",
   "execution_count": 6,
   "metadata": {},
   "outputs": [],
   "source": [
    "data.drop(columns=['pdb_id', 'pdb_pos', 'phenotypic_annotation'], inplace=True)"
   ]
  },
  {
   "cell_type": "code",
   "execution_count": 7,
   "metadata": {},
   "outputs": [],
   "source": [
    "mapping = {\"pathogenic\": -1, \"ambiguous\": 0, \"benign\": 1}\n",
    "data[\"am_class\"] = data[\"am_class\"].map(mapping)\n",
    "data.drop(columns=['am_pathogenicity'], inplace=True)"
   ]
  },
  {
   "cell_type": "code",
   "execution_count": 8,
   "metadata": {},
   "outputs": [
    {
     "name": "stdout",
     "output_type": "stream",
     "text": [
      "<class 'pandas.core.frame.DataFrame'>\n",
      "RangeIndex: 7572 entries, 0 to 7571\n",
      "Data columns (total 20 columns):\n",
      " #   Column                       Non-Null Count  Dtype  \n",
      "---  ------                       --------------  -----  \n",
      " 0   uniprot_id                   7572 non-null   object \n",
      " 1   wildtype                     7572 non-null   object \n",
      " 2   position                     7572 non-null   int64  \n",
      " 3   mutation                     7572 non-null   object \n",
      " 4   interaction                  2416 non-null   float64\n",
      " 5   binding                      1402 non-null   float64\n",
      " 6   function                     3739 non-null   float64\n",
      " 7   phosphorylation              269 non-null    float64\n",
      " 8   ubiquination                 114 non-null    float64\n",
      " 9   glycosylation                81 non-null     float64\n",
      " 10  sumoylation                  32 non-null     float64\n",
      " 11  acetylation                  0 non-null      float64\n",
      " 12  other_ptm                    74 non-null     float64\n",
      " 13  methylation                  0 non-null      float64\n",
      " 14  ribosylation                 10 non-null     float64\n",
      " 15  subcell_localization_change  409 non-null    float64\n",
      " 16  mimetic_ptm                  50 non-null     float64\n",
      " 17  folding                      144 non-null    float64\n",
      " 18  expression                   24 non-null     float64\n",
      " 19  am_class                     7572 non-null   int64  \n",
      "dtypes: float64(15), int64(2), object(3)\n",
      "memory usage: 1.2+ MB\n"
     ]
    }
   ],
   "source": [
    "data.info()"
   ]
  },
  {
   "cell_type": "markdown",
   "metadata": {},
   "source": [
    "# Analysis"
   ]
  },
  {
   "cell_type": "code",
   "execution_count": 15,
   "metadata": {},
   "outputs": [
    {
     "data": {
      "image/png": "[encoded data removed]",
      "text/plain": [
       "<Figure size 1200x800 with 1 Axes>"
      ]
     },
     "metadata": {},
     "output_type": "display_data"
    }
   ],
   "source": [
    "plt.figure(figsize=(12, 8))\n",
    "sns.countplot(x='interaction', \n",
    "              hue='am_class', \n",
    "              data=data)\n",
    "plt.title('Distribuzione di interaction per ogni am_class')\n",
    "plt.xlabel('Interaction')\n",
    "plt.ylabel('Frequenza')\n",
    "plt.show()"
   ]
  },
  {
   "cell_type": "markdown",
   "metadata": {},
   "source": [
    "# Correlation"
   ]
  },
  {
   "cell_type": "code",
   "execution_count": 49,
   "metadata": {},
   "outputs": [
    {
     "name": "stderr",
     "output_type": "stream",
     "text": [
      "/data/fsartori/MolecularPhenotypes/venv/lib/python3.8/site-packages/scipy/stats/_stats_py.py:4424: ConstantInputWarning: An input array is constant; the correlation coefficient is not defined.\n",
      "  warnings.warn(stats.ConstantInputWarning(msg))\n"
     ]
    }
   ],
   "source": [
    "from scipy import stats\n",
    "\n",
    "columns_to_compare = ['function', 'interaction', 'binding', 'phosphorylation', 'ubiquination', 'glycosylation', \n",
    "                      'sumoylation', 'other_ptm', 'ribosylation', 'subcell_localization_change', 'expression']\n",
    "\n",
    "correlation_table = pd.DataFrame(index=[\"am_class\"])\n",
    "\n",
    "for column in columns_to_compare:\n",
    "    data_filtered = data[~data[column].isna()]\n",
    "    pearson_corr = stats.pearsonr(data_filtered[\"am_class\"], data_filtered[column])\n",
    "    correlation_table[column] = [pearson_corr[0]]"
   ]
  },
  {
   "cell_type": "code",
   "execution_count": 50,
   "metadata": {},
   "outputs": [
    {
     "data": {
      "text/html": [
       "<div>\n",
       "<style scoped>\n",
       "    .dataframe tbody tr th:only-of-type {\n",
       "        vertical-align: middle;\n",
       "    }\n",
       "\n",
       "    .dataframe tbody tr th {\n",
       "        vertical-align: top;\n",
       "    }\n",
       "\n",
       "    .dataframe thead th {\n",
       "        text-align: right;\n",
       "    }\n",
       "</style>\n",
       "<table border=\"1\" class=\"dataframe\">\n",
       "  <thead>\n",
       "    <tr style=\"text-align: right;\">\n",
       "      <th></th>\n",
       "      <th>function</th>\n",
       "      <th>interaction</th>\n",
       "      <th>binding</th>\n",
       "      <th>phosphorylation</th>\n",
       "      <th>ubiquination</th>\n",
       "      <th>glycosylation</th>\n",
       "      <th>sumoylation</th>\n",
       "      <th>other_ptm</th>\n",
       "      <th>ribosylation</th>\n",
       "      <th>subcell_localization_change</th>\n",
       "      <th>expression</th>\n",
       "    </tr>\n",
       "  </thead>\n",
       "  <tbody>\n",
       "    <tr>\n",
       "      <th>am_class</th>\n",
       "      <td>0.267209</td>\n",
       "      <td>0.174224</td>\n",
       "      <td>0.153606</td>\n",
       "      <td>0.05538</td>\n",
       "      <td>0.037061</td>\n",
       "      <td>-0.270199</td>\n",
       "      <td>0.272554</td>\n",
       "      <td>-0.078731</td>\n",
       "      <td>NaN</td>\n",
       "      <td>-0.252634</td>\n",
       "      <td>-0.208394</td>\n",
       "    </tr>\n",
       "  </tbody>\n",
       "</table>\n",
       "</div>"
      ],
      "text/plain": [
       "          function  interaction   binding  phosphorylation  ubiquination  \\\n",
       "am_class  0.267209     0.174224  0.153606          0.05538      0.037061   \n",
       "\n",
       "          glycosylation  sumoylation  other_ptm  ribosylation  \\\n",
       "am_class      -0.270199     0.272554  -0.078731           NaN   \n",
       "\n",
       "          subcell_localization_change  expression  \n",
       "am_class                    -0.252634   -0.208394  "
      ]
     },
     "execution_count": 50,
     "metadata": {},
     "output_type": "execute_result"
    }
   ],
   "source": [
    "correlation_table"
   ]
  }
 ],
 "metadata": {
  "kernelspec": {
   "display_name": "venv",
   "language": "python",
   "name": "python3"
  },
  "language_info": {
   "codemirror_mode": {
    "name": "ipython",
    "version": 3
   },
   "file_extension": ".py",
   "mimetype": "text/x-python",
   "name": "python",
   "nbconvert_exporter": "python",
   "pygments_lexer": "ipython3",
   "version": "3.8.10"
  }
 },
 "nbformat": 4,
 "nbformat_minor": 2
}
